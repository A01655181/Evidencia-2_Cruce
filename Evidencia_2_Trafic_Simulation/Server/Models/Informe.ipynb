{
 "cells": [
  {
   "cell_type": "code",
   "execution_count": 1,
   "id": "62aa4e0c",
   "metadata": {},
   "outputs": [],
   "source": [
    "import inter_model, normal, vel, traffic\n",
    "\n",
    "def run_batch(num_batches, max_cars, max_steps, model_name=\"inter_model\"):\n",
    "    print(f\"Running batch {num_batches} time(s)\")\n",
    "    num_crashes = []\n",
    "    successful_trips = []\n",
    "    wait_times = []\n",
    "    \n",
    "    for i in range(num_batches):\n",
    "        # print(f\"Current batch is {i+1}\")\n",
    "\n",
    "        if model_name == \"inter\":\n",
    "\n",
    "            model = inter_model.IntersectionModel(max_cars)\n",
    "\n",
    "            for j in range(max_steps):\n",
    "                model.step()\n",
    "                \n",
    "                num_crashes.append(model.crashes_num)\n",
    "                successful_trips.append(model.succesfull)\n",
    "                \n",
    "                try:\n",
    "                    wait_times.append([agents.waiting_time for agents in model.vh_scheduler.agents])\n",
    "                except:\n",
    "                    pass\n",
    "\n",
    "        elif model_name == \"vel\":\n",
    "            \n",
    "            model = vel.IntersectionModel(max_cars)\n",
    "\n",
    "            for j in range(max_steps):\n",
    "                model.step()\n",
    "                \n",
    "                num_crashes.append(model.crashes_num)\n",
    "                successful_trips.append(model.succesfull)\n",
    "\n",
    "                try:\n",
    "                    wait_times.append([agents.waiting_time for agents in model.vh_scheduler.agents])\n",
    "                except:\n",
    "                    pass\n",
    "\n",
    "        elif model_name == \"traffic\":\n",
    "\n",
    "            model = traffic.IntersectionModel(max_cars)\n",
    "            \n",
    "            for j in range(max_steps):\n",
    "                model.step()\n",
    "                \n",
    "                num_crashes.append(model.crashes_num)\n",
    "                successful_trips.append(model.succesfull)\n",
    "\n",
    "                try:\n",
    "                    wait_times.append([agents.waiting_time for agents in model.vh_scheduler.agents])\n",
    "                except:\n",
    "                    pass\n",
    "\n",
    "        else:\n",
    "            model = normal.IntersectionModel(max_cars)\n",
    "            \n",
    "            for j in range(max_steps):\n",
    "                model.step()\n",
    "                \n",
    "                num_crashes.append(model.crashes_num)\n",
    "                successful_trips.append(model.succesfull)\n",
    "\n",
    "                try:\n",
    "                    wait_times.append([agents.waiting_time for agents in model.vh_scheduler.agents])\n",
    "                except:\n",
    "                    pass\n",
    "        \n",
    "\n",
    "    avrg_num_crash = sum(num_crashes) / len(num_crashes)\n",
    "    avrg_succes_trips = sum(successful_trips) / len(successful_trips)  \n",
    "    \n",
    "    print(f\"For the model {model_name} It took on average {avrg_num_crash} crashes and {avrg_succes_trips} succesful trips when running {num_batches} times the model with a maximum step number of {max_steps} per model\")"
   ]
  },
  {
   "cell_type": "code",
   "execution_count": 6,
   "id": "3382dd69",
   "metadata": {},
   "outputs": [
    {
     "name": "stdout",
     "output_type": "stream",
     "text": [
      "Running batch 10 time(s)\n",
      "For the model inter_model It took on average 27.9066 crashes and 122.7962 succesful trips when running 10 times the model with a maximum step number of 1000 per model\n",
      "Running batch 10 time(s)\n"
     ]
    },
    {
     "ename": "IndexError",
     "evalue": "pop from empty list",
     "output_type": "error",
     "traceback": [
      "\u001b[0;31m---------------------------------------------------------------------------\u001b[0m",
      "\u001b[0;31mIndexError\u001b[0m                                Traceback (most recent call last)",
      "Cell \u001b[0;32mIn [6], line 2\u001b[0m\n\u001b[1;32m      1\u001b[0m run_batch(\u001b[38;5;241m10\u001b[39m, \u001b[38;5;241m30\u001b[39m, \u001b[38;5;241m1000\u001b[39m)\n\u001b[0;32m----> 2\u001b[0m \u001b[43mrun_batch\u001b[49m\u001b[43m(\u001b[49m\u001b[38;5;241;43m10\u001b[39;49m\u001b[43m,\u001b[49m\u001b[43m \u001b[49m\u001b[38;5;241;43m30\u001b[39;49m\u001b[43m,\u001b[49m\u001b[43m \u001b[49m\u001b[38;5;241;43m1000\u001b[39;49m\u001b[43m,\u001b[49m\u001b[43m \u001b[49m\u001b[38;5;124;43m\"\u001b[39;49m\u001b[38;5;124;43mvel\u001b[39;49m\u001b[38;5;124;43m\"\u001b[39;49m\u001b[43m)\u001b[49m\n\u001b[1;32m      3\u001b[0m run_batch(\u001b[38;5;241m10\u001b[39m, \u001b[38;5;241m30\u001b[39m, \u001b[38;5;241m1000\u001b[39m, \u001b[38;5;124m\"\u001b[39m\u001b[38;5;124mnormal\u001b[39m\u001b[38;5;124m\"\u001b[39m)\n\u001b[1;32m      4\u001b[0m run_batch(\u001b[38;5;241m10\u001b[39m, \u001b[38;5;241m30\u001b[39m, \u001b[38;5;241m1000\u001b[39m, \u001b[38;5;124m\"\u001b[39m\u001b[38;5;124mtraffic\u001b[39m\u001b[38;5;124m\"\u001b[39m)\n",
      "Cell \u001b[0;32mIn [1], line 32\u001b[0m, in \u001b[0;36mrun_batch\u001b[0;34m(num_batches, max_cars, max_steps, model_name)\u001b[0m\n\u001b[1;32m     29\u001b[0m model \u001b[38;5;241m=\u001b[39m vel\u001b[38;5;241m.\u001b[39mIntersectionModel(max_cars)\n\u001b[1;32m     31\u001b[0m \u001b[38;5;28;01mfor\u001b[39;00m j \u001b[38;5;129;01min\u001b[39;00m \u001b[38;5;28mrange\u001b[39m(max_steps):\n\u001b[0;32m---> 32\u001b[0m     \u001b[43mmodel\u001b[49m\u001b[38;5;241;43m.\u001b[39;49m\u001b[43mstep\u001b[49m\u001b[43m(\u001b[49m\u001b[43m)\u001b[49m\n\u001b[1;32m     34\u001b[0m     num_crashes\u001b[38;5;241m.\u001b[39mappend(model\u001b[38;5;241m.\u001b[39mcrashes_num)\n\u001b[1;32m     35\u001b[0m     successful_trips\u001b[38;5;241m.\u001b[39mappend(model\u001b[38;5;241m.\u001b[39msuccesfull)\n",
      "File \u001b[0;32m~/Documents/Evidencia-2_Cruce/Evidencia_2_Trafic_Simulation/Server/Models/vel.py:1091\u001b[0m, in \u001b[0;36mIntersectionModel.step\u001b[0;34m(self)\u001b[0m\n\u001b[1;32m   1088\u001b[0m     \u001b[38;5;28mself\u001b[39m\u001b[38;5;241m.\u001b[39mtime \u001b[38;5;241m+\u001b[39m\u001b[38;5;241m=\u001b[39m \u001b[38;5;241m1\u001b[39m\n\u001b[1;32m   1090\u001b[0m \u001b[38;5;28;01melif\u001b[39;00m \u001b[38;5;28mself\u001b[39m\u001b[38;5;241m.\u001b[39mtime \u001b[38;5;241m==\u001b[39m \u001b[38;5;241m25\u001b[39m: \u001b[38;5;66;03m# max time\u001b[39;00m\n\u001b[0;32m-> 1091\u001b[0m     \u001b[38;5;28;43mself\u001b[39;49m\u001b[38;5;241;43m.\u001b[39;49m\u001b[43mprio\u001b[49m\u001b[38;5;241;43m.\u001b[39;49m\u001b[43mpop\u001b[49m\u001b[43m(\u001b[49m\u001b[38;5;241;43m0\u001b[39;49m\u001b[43m)\u001b[49m\n\u001b[1;32m   1093\u001b[0m     \u001b[38;5;28;01mif\u001b[39;00m \u001b[38;5;28mself\u001b[39m\u001b[38;5;241m.\u001b[39mprio \u001b[38;5;241m==\u001b[39m []:\n\u001b[1;32m   1094\u001b[0m         \u001b[38;5;28mself\u001b[39m\u001b[38;5;241m.\u001b[39mtime \u001b[38;5;241m=\u001b[39m \u001b[38;5;241m0\u001b[39m\n",
      "\u001b[0;31mIndexError\u001b[0m: pop from empty list"
     ]
    }
   ],
   "source": [
    "run_batch(10, 30, 1000)\n",
    "run_batch(10, 30, 1000, \"vel\")\n",
    "run_batch(10, 30, 1000, \"normal\")\n",
    "run_batch(10, 30, 1000, \"traffic\")"
   ]
  },
  {
   "cell_type": "code",
   "execution_count": null,
   "id": "78747753",
   "metadata": {},
   "outputs": [],
   "source": []
  }
 ],
 "metadata": {
  "kernelspec": {
   "display_name": "Python 3 (ipykernel)",
   "language": "python",
   "name": "python3"
  },
  "language_info": {
   "codemirror_mode": {
    "name": "ipython",
    "version": 3
   },
   "file_extension": ".py",
   "mimetype": "text/x-python",
   "name": "python",
   "nbconvert_exporter": "python",
   "pygments_lexer": "ipython3",
   "version": "3.10.8"
  },
  "vscode": {
   "interpreter": {
    "hash": "61cecbef02edb0820112dab7a8d83741db692b00319285d28bc6e2e151a70fb6"
   }
  }
 },
 "nbformat": 4,
 "nbformat_minor": 5
}
